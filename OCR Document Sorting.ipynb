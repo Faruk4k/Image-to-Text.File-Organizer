{
 "cells": [
  {
   "cell_type": "markdown",
   "id": "0169ec71",
   "metadata": {},
   "source": [
    "# OCR Document sorting according to Date\n"
   ]
  },
  {
   "cell_type": "markdown",
   "id": "f1f62dc5",
   "metadata": {},
   "source": [
    "Down below you can see the first trial of loading an image and trying to extract the highest date found in the document. Since there might be multiple dates presented in a document we make an assumption that the date with highest Y coordinate here is the successor and the creation date of the document. We look at both formats of DD.MM.YYYY and DD/MM/YYYY. \n",
    "\n",
    "The tesseract libarary that is used for Optical Character Recognition has different page scan methods. These very from row method to block search and straight line read. In this project from trial and error I decided to go for PSM 6 which is the block search methods as document creation dates tend to be in blocks."
   ]
  },
  {
   "cell_type": "code",
   "execution_count": 1,
   "id": "4a6f173c",
   "metadata": {},
   "outputs": [
    {
     "name": "stdout",
     "output_type": "stream",
     "text": [
      "Date found at the top of the document: 11/13/2021\n"
     ]
    }
   ],
   "source": [
    "import cv2\n",
    "import pytesseract\n",
    "import re\n",
    "\n",
    "# Load the image\n",
    "image = cv2.imread('test.png')\n",
    "gray = cv2.cvtColor(image, cv2.COLOR_BGR2GRAY)\n",
    "\n",
    "# Perform OCR on the entire document\n",
    "extracted_text = pytesseract.image_to_string(gray, config='--psm 6')  # Use PSM 6 for block of text\n",
    "\n",
    "# Search for dates in the extracted text (both \"DD.MM.YYYY\" and \"MM/DD/YYYY\" formats)\n",
    "date_pattern = r'\\d{2}.\\d{2}.\\d{4}|\\d{2}/\\d{2}/\\d{4}'\n",
    "dates = re.findall(date_pattern, extracted_text)\n",
    "\n",
    "# Find the date closest to the top of the document\n",
    "highest_date = None\n",
    "highest_date_y = None\n",
    "\n",
    "for date in dates:\n",
    "    date_y = 0  # Set Y-coordinate to 0 (top of the document)\n",
    "    if highest_date_y is None or date_y < highest_date_y:\n",
    "        highest_date = date\n",
    "        highest_date_y = date_y\n",
    "\n",
    "if highest_date:\n",
    "    print(\"Date found at the top of the document:\", highest_date)\n",
    "else:\n",
    "    print(\"No date found in the document.\")\n",
    "\n"
   ]
  },
  {
   "cell_type": "markdown",
   "id": "27b648f1",
   "metadata": {},
   "source": [
    "**Note**: I also tested the OCR with handwriting to see if it would be able to read writings but it failed and reasearch displayed that making it compatible with handwritings requires more resources and training which at the end wont be very accurate since handwritings vary a lot. For the aim of this project regarding sorting documents the scanning of printed text is  statisfactory since nowadays creation of documents tend to be printed anyway."
   ]
  },
  {
   "cell_type": "markdown",
   "id": "3cb71afd",
   "metadata": {},
   "source": [
    "### Getting dates from multiple documents \n",
    "\n",
    "Now we make an attempt to get dates from all the documents that reside in current paths /images folder and ordering them from the oldest to newest since the older the document is the higher the priority of its review is. This is part of the sorting now, we also have 2 arrays one of them being used for the documents with dates and other without.\n",
    "\n",
    "I made it so that program accepts images of format .jpg and .png thinking these would be most often used, but these can be adjusted for future need.\n",
    "\n",
    "The method of finding the date with highest y-coordinate also changed for optimizing it and in effort to cleanup the code.\n",
    "\n"
   ]
  },
  {
   "cell_type": "code",
   "execution_count": 2,
   "id": "1fecad45",
   "metadata": {},
   "outputs": [
    {
     "name": "stdout",
     "output_type": "stream",
     "text": [
      "Top dates from each document in order:\n",
      "Document: Picture1.png, Date: 23/12/2020\n",
      "Document: Picture2.png, Date: 22/31/2005\n",
      "Document: Picture3.png, Date: 22/31/2005\n",
      "Document: Picture4.png, Date: 22/31/2005\n",
      "Document: Picture5.png, Date: 22/31/2005\n",
      "Document: test.png, Date: 11/13/2021\n",
      "Document: test2.png, Date: 19.09.2022\n",
      "Document: test4.png, Date: 05.08.2023\n",
      "Documents with no date found:\n",
      "NoDate_1.jpg\n",
      "Picture6.png\n"
     ]
    }
   ],
   "source": [
    "import os\n",
    "import cv2\n",
    "import pytesseract\n",
    "import re\n",
    "\n",
    "# Specify the directory containing the documents\n",
    "document_directory = os.path.join(os.getcwd(), 'images')\n",
    "\n",
    "# Initialize lists to store dates and documents without dates\n",
    "all_dates = []\n",
    "documents_without_dates = []\n",
    "\n",
    "# Loop through all files in the directory\n",
    "for filename in os.listdir(document_directory):\n",
    "    if filename.endswith('.jpg') or filename.endswith('.png'):  # Adjust for supported image file types\n",
    "        file_path = os.path.join(document_directory, filename)\n",
    "\n",
    "        # Load the image\n",
    "        image = cv2.imread(file_path)\n",
    "        gray = cv2.cvtColor(image, cv2.COLOR_BGR2GRAY)\n",
    "\n",
    "        # Perform OCR on the entire document\n",
    "        extracted_text = pytesseract.image_to_string(gray, config='--psm 6')  # Use PSM 6 for block of text\n",
    "\n",
    "        # Search for dates in the extracted text (both \"DD.MM.YYYY\" and \"MM/DD/YYYY\" formats)\n",
    "        date_pattern = r'\\d{2}.\\d{2}.\\d{4}|\\d{2}/\\d{2}/\\d{4}'\n",
    "        dates = re.findall(date_pattern, extracted_text)\n",
    "\n",
    "        if dates:\n",
    "            # Find the date closest to the top of the document\n",
    "            highest_date = min(dates, key=lambda date: extracted_text.find(date))\n",
    "            all_dates.append((filename, highest_date))\n",
    "        else:\n",
    "            documents_without_dates.append(filename)\n",
    "\n",
    "# Display the top dates\n",
    "if all_dates:\n",
    "    sorted_dates = sorted(all_dates, key=lambda item: extracted_text.find(item[1]))\n",
    "    print(\"Top dates from each document in order:\")\n",
    "    for document, date in sorted_dates:\n",
    "        print(f\"Document: {document}, Date: {date}\")\n",
    "\n",
    "# Display documents without dates\n",
    "if documents_without_dates:\n",
    "    print(\"Documents with no date found:\")\n",
    "    for document in documents_without_dates:\n",
    "        print(document)\n",
    "\n"
   ]
  },
  {
   "cell_type": "markdown",
   "id": "405c2464",
   "metadata": {},
   "source": [
    "### Sorting the documents in a new path\n",
    "\n",
    "Okay, now we can read the dates from multiple files and put them order. Its time to rename these documents and sort them out in a new path. We also have to consider the documents that OCR couldnt find any date in, for these we will be calling them NoDate_(increment). But for the documents that have dates we will have Document(increment) starting from the oldest date to the newest date. \n",
    "\n",
    "We also included a error code if the directory given is empty.\n",
    "\n",
    "To do the copying of the documents to a new path we import a new libarary 'copy2' and for sorting we have a for loop."
   ]
  },
  {
   "cell_type": "code",
   "execution_count": 3,
   "id": "28ac3e8b",
   "metadata": {},
   "outputs": [
    {
     "name": "stdout",
     "output_type": "stream",
     "text": [
      "Documents with no date found:\n",
      "NoDate_1.jpg\n",
      "Picture6.png\n",
      "Documents have been sorted and renamed in the 'Sorted_Documents' folder. The documents with no date have been named as NoDate_(i)\n"
     ]
    }
   ],
   "source": [
    "import os\n",
    "import cv2\n",
    "import pytesseract\n",
    "import re\n",
    "from shutil import copy2\n",
    "\n",
    "# Specify the directory containing the documents\n",
    "document_directory = os.path.join(os.getcwd(), 'images')\n",
    "\n",
    "# Check if the directory is empty\n",
    "if not os.listdir(document_directory):\n",
    "    print(\"Error: No documents found in the directory.\")\n",
    "    exit()\n",
    "\n",
    "# Create a folder for the sorted documents\n",
    "sorted_documents_folder = 'Sorted_Documents'\n",
    "if not os.path.exists(sorted_documents_folder):\n",
    "    os.makedirs(sorted_documents_folder)\n",
    "\n",
    "# Initialize lists to store dates and documents without dates\n",
    "all_dates = []\n",
    "documents_without_dates = []\n",
    "\n",
    "# Loop through all files in the directory\n",
    "for filename in os.listdir(document_directory):\n",
    "    if filename.endswith('.jpg') or filename.endswith('.png'):  # Adjust for supported image file types\n",
    "        file_path = os.path.join(document_directory, filename)\n",
    "\n",
    "        # Load the image\n",
    "        image = cv2.imread(file_path)\n",
    "        gray = cv2.cvtColor(image, cv2.COLOR_BGR2GRAY)\n",
    "\n",
    "        # Perform OCR on the entire document\n",
    "        extracted_text = pytesseract.image_to_string(gray, config='--psm 6')  # Use PSM 6 for block of text\n",
    "\n",
    "        # Search for dates in the extracted text (both \"DD.MM.YYYY\" and \"MM/DD/YYYY\" formats)\n",
    "        date_pattern = r'\\d{2}.\\d{2}.\\d{4}|\\d{2}/\\d{2}/\\d{4}'\n",
    "        dates = re.findall(date_pattern, extracted_text)\n",
    "\n",
    "        if dates:\n",
    "            # Find the date closest to the top of the document\n",
    "            highest_date = min(dates, key=lambda date: extracted_text.find(date))\n",
    "            all_dates.append((filename, highest_date))\n",
    "        else:\n",
    "            documents_without_dates.append(filename)\n",
    "\n",
    "# Sort documents by date\n",
    "if all_dates:\n",
    "    sorted_dates = sorted(all_dates, key=lambda item: extracted_text.find(item[1]))\n",
    "\n",
    "    # Copy sorted documents to the sorted folder\n",
    "    for i, (document, date) in enumerate(sorted_dates):\n",
    "        new_document_name = f'Document_{i+1}.jpg'  # Rename as Document_(Increment)\n",
    "        new_document_path = os.path.join(sorted_documents_folder, new_document_name)\n",
    "        copy2(os.path.join(document_directory, document), new_document_path)\n",
    "\n",
    "    # Copy documents without dates to the same folder\n",
    "if documents_without_dates:\n",
    "    for i, document in enumerate(documents_without_dates):\n",
    "        new_document_name = f'NoDate_{i+1}.jpg'  # Rename as NoDate_(Increment)\n",
    "        new_document_path = os.path.join(sorted_documents_folder, new_document_name)\n",
    "        copy2(os.path.join(document_directory, document), new_document_path)\n",
    "        \n",
    "    # Display documents without dates\n",
    "    print(\"Documents with no date found:\")\n",
    "    for document in documents_without_dates:\n",
    "        print(document)\n",
    "\n",
    "\n",
    "print(\"Documents have been sorted and renamed in the 'Sorted_Documents' folder. The documents with no date have been named as NoDate_(i)\")\n"
   ]
  },
  {
   "cell_type": "markdown",
   "id": "a220c87d",
   "metadata": {},
   "source": [
    "### Results and testing "
   ]
  },
  {
   "cell_type": "markdown",
   "id": "61bc2cb9",
   "metadata": {},
   "source": [
    "As it can be seen above if there are no dates found in the documents the reporting works. Now lets see the images that it put in the path. Are the namings correct? Did it produce results?"
   ]
  },
  {
   "cell_type": "code",
   "execution_count": 4,
   "id": "5df267a6",
   "metadata": {},
   "outputs": [
    {
     "data": {
      "image/png": "[encoded data removed]",
      "text/plain": [
       "<IPython.core.display.Image object>"
      ]
     },
     "execution_count": 4,
     "metadata": {},
     "output_type": "execute_result"
    }
   ],
   "source": [
    "from IPython.display import Image\n",
    "Image(filename='results.png') "
   ]
  },
  {
   "cell_type": "markdown",
   "id": "aa5c5db5",
   "metadata": {},
   "source": [
    "As you can see the code works well and the files are sorted. While testing the code I also realized that if there are more then one date that are in the same Y coordinate then the code takes the older date which is reasonable in our case."
   ]
  },
  {
   "cell_type": "markdown",
   "id": "c4e3bb7a",
   "metadata": {},
   "source": [
    "That concludes the program and its a demonstration of use of OCR to find dates of the documents. This is just one demonstration of how OCR could be used to digitalize real life issues and do it very efficiently and with no hustle. "
   ]
  }
 ],
 "metadata": {
  "kernelspec": {
   "display_name": "Python 3 (ipykernel)",
   "language": "python",
   "name": "python3"
  },
  "language_info": {
   "codemirror_mode": {
    "name": "ipython",
    "version": 3
   },
   "file_extension": ".py",
   "mimetype": "text/x-python",
   "name": "python",
   "nbconvert_exporter": "python",
   "pygments_lexer": "ipython3",
   "version": "3.9.13"
  }
 },
 "nbformat": 4,
 "nbformat_minor": 5
}
